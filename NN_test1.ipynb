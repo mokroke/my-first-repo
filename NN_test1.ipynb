{
  "nbformat": 4,
  "nbformat_minor": 0,
  "metadata": {
    "colab": {
      "name": "NN_test1.ipynb",
      "provenance": [],
      "collapsed_sections": [
        "0mYs3uQL0Qwv"
      ],
      "machine_shape": "hm",
      "include_colab_link": true
    },
    "kernelspec": {
      "name": "python3",
      "display_name": "Python 3"
    },
    "language_info": {
      "name": "python"
    },
    "accelerator": "TPU",
    "widgets": {
      "application/vnd.jupyter.widget-state+json": {
        "ff4ed58c17394612a3e6eb6a45d858b9": {
          "model_module": "@jupyter-widgets/controls",
          "model_name": "ButtonModel",
          "model_module_version": "1.5.0",
          "state": {
            "_dom_classes": [],
            "_model_module": "@jupyter-widgets/controls",
            "_model_module_version": "1.5.0",
            "_model_name": "ButtonModel",
            "_view_count": null,
            "_view_module": "@jupyter-widgets/controls",
            "_view_module_version": "1.5.0",
            "_view_name": "ButtonView",
            "button_style": "",
            "description": "Click me",
            "disabled": false,
            "icon": "",
            "layout": "IPY_MODEL_3812982be42f456c9357739aec5955eb",
            "style": "IPY_MODEL_a386e50de2674a86a3855f3add927478",
            "tooltip": ""
          }
        },
        "3812982be42f456c9357739aec5955eb": {
          "model_module": "@jupyter-widgets/base",
          "model_name": "LayoutModel",
          "model_module_version": "1.2.0",
          "state": {
            "_model_module": "@jupyter-widgets/base",
            "_model_module_version": "1.2.0",
            "_model_name": "LayoutModel",
            "_view_count": null,
            "_view_module": "@jupyter-widgets/base",
            "_view_module_version": "1.2.0",
            "_view_name": "LayoutView",
            "align_content": null,
            "align_items": null,
            "align_self": null,
            "border": null,
            "bottom": null,
            "display": null,
            "flex": null,
            "flex_flow": null,
            "grid_area": null,
            "grid_auto_columns": null,
            "grid_auto_flow": null,
            "grid_auto_rows": null,
            "grid_column": null,
            "grid_gap": null,
            "grid_row": null,
            "grid_template_areas": null,
            "grid_template_columns": null,
            "grid_template_rows": null,
            "height": null,
            "justify_content": null,
            "justify_items": null,
            "left": null,
            "margin": null,
            "max_height": null,
            "max_width": null,
            "min_height": null,
            "min_width": null,
            "object_fit": null,
            "object_position": null,
            "order": null,
            "overflow": null,
            "overflow_x": null,
            "overflow_y": null,
            "padding": null,
            "right": null,
            "top": null,
            "visibility": null,
            "width": null
          }
        },
        "a386e50de2674a86a3855f3add927478": {
          "model_module": "@jupyter-widgets/controls",
          "model_name": "ButtonStyleModel",
          "model_module_version": "1.5.0",
          "state": {
            "_model_module": "@jupyter-widgets/controls",
            "_model_module_version": "1.5.0",
            "_model_name": "ButtonStyleModel",
            "_view_count": null,
            "_view_module": "@jupyter-widgets/base",
            "_view_module_version": "1.2.0",
            "_view_name": "StyleView",
            "button_color": null,
            "font_weight": ""
          }
        },
        "ae4eb0fab60446a98c915c6ed4d0abd0": {
          "model_module": "@jupyter-widgets/controls",
          "model_name": "ButtonModel",
          "model_module_version": "1.5.0",
          "state": {
            "_dom_classes": [],
            "_model_module": "@jupyter-widgets/controls",
            "_model_module_version": "1.5.0",
            "_model_name": "ButtonModel",
            "_view_count": null,
            "_view_module": "@jupyter-widgets/controls",
            "_view_module_version": "1.5.0",
            "_view_name": "ButtonView",
            "button_style": "",
            "description": "Click me",
            "disabled": false,
            "icon": "",
            "layout": "IPY_MODEL_c145f392a7ad4f42a8a5c2f6478f00fe",
            "style": "IPY_MODEL_e48189905ccc460098e3402217fbbe92",
            "tooltip": ""
          }
        },
        "c145f392a7ad4f42a8a5c2f6478f00fe": {
          "model_module": "@jupyter-widgets/base",
          "model_name": "LayoutModel",
          "model_module_version": "1.2.0",
          "state": {
            "_model_module": "@jupyter-widgets/base",
            "_model_module_version": "1.2.0",
            "_model_name": "LayoutModel",
            "_view_count": null,
            "_view_module": "@jupyter-widgets/base",
            "_view_module_version": "1.2.0",
            "_view_name": "LayoutView",
            "align_content": null,
            "align_items": null,
            "align_self": null,
            "border": null,
            "bottom": null,
            "display": null,
            "flex": null,
            "flex_flow": null,
            "grid_area": null,
            "grid_auto_columns": null,
            "grid_auto_flow": null,
            "grid_auto_rows": null,
            "grid_column": null,
            "grid_gap": null,
            "grid_row": null,
            "grid_template_areas": null,
            "grid_template_columns": null,
            "grid_template_rows": null,
            "height": null,
            "justify_content": null,
            "justify_items": null,
            "left": null,
            "margin": null,
            "max_height": null,
            "max_width": null,
            "min_height": null,
            "min_width": null,
            "object_fit": null,
            "object_position": null,
            "order": null,
            "overflow": null,
            "overflow_x": null,
            "overflow_y": null,
            "padding": null,
            "right": null,
            "top": null,
            "visibility": null,
            "width": null
          }
        },
        "e48189905ccc460098e3402217fbbe92": {
          "model_module": "@jupyter-widgets/controls",
          "model_name": "ButtonStyleModel",
          "model_module_version": "1.5.0",
          "state": {
            "_model_module": "@jupyter-widgets/controls",
            "_model_module_version": "1.5.0",
            "_model_name": "ButtonStyleModel",
            "_view_count": null,
            "_view_module": "@jupyter-widgets/base",
            "_view_module_version": "1.2.0",
            "_view_name": "StyleView",
            "button_color": null,
            "font_weight": ""
          }
        }
      }
    }
  },
  "cells": [
    {
      "cell_type": "markdown",
      "metadata": {
        "id": "view-in-github",
        "colab_type": "text"
      },
      "source": [
        "<a href=\"https://colab.research.google.com/github/mokroke/my-first-repo/blob/ubdate-readme/NN_test1.ipynb\" target=\"_parent\"><img src=\"https://colab.research.google.com/assets/colab-badge.svg\" alt=\"Open In Colab\"/></a>"
      ]
    },
    {
      "cell_type": "markdown",
      "source": [
        "# セッション切れ回避\n",
        "\n",
        "```\n",
        "function ClickConnect(){\n",
        "  console.log(\"60sごとに再接続\");\n",
        "  document.querySelector(\"colab-connect-button\").click()\n",
        "}\n",
        "setInterval(ClickConnect,1000*60);\n",
        "```"
      ],
      "metadata": {
        "id": "yeFR6iuDflX4"
      }
    },
    {
      "cell_type": "code",
      "source": [
        "# # catboostのinstall\n",
        "!pip install catboost\n",
        "!pip install scikit-learn\n",
        "!pip install ipywidgets\n",
        "!jupyter nbextension enable --py widgetsnbextension"
      ],
      "metadata": {
        "id": "uNrkr0eSbZlQ"
      },
      "execution_count": null,
      "outputs": []
    },
    {
      "cell_type": "code",
      "source": [
        ""
      ],
      "metadata": {
        "id": "LzJ8JfzkSEBH"
      },
      "execution_count": null,
      "outputs": []
    },
    {
      "cell_type": "code",
      "source": [
        "import ipywidgets as widgets"
      ],
      "metadata": {
        "id": "moiGvnW7knHl"
      },
      "execution_count": null,
      "outputs": []
    },
    {
      "cell_type": "code",
      "source": [
        "button = widgets.Button(description = 'Click me')\n",
        "button"
      ],
      "metadata": {
        "colab": {
          "base_uri": "https://localhost:8080/",
          "height": 49,
          "referenced_widgets": [
            "ff4ed58c17394612a3e6eb6a45d858b9",
            "3812982be42f456c9357739aec5955eb",
            "a386e50de2674a86a3855f3add927478"
          ]
        },
        "id": "_UtPCHtskw5E",
        "outputId": "0cdfdd36-b95d-4e64-cd20-06fc955791d3"
      },
      "execution_count": null,
      "outputs": [
        {
          "output_type": "display_data",
          "data": {
            "text/plain": [
              "Button(description='Click me', style=ButtonStyle())"
            ],
            "application/vnd.jupyter.widget-view+json": {
              "version_major": 2,
              "version_minor": 0,
              "model_id": "ff4ed58c17394612a3e6eb6a45d858b9"
            }
          },
          "metadata": {}
        }
      ]
    },
    {
      "cell_type": "code",
      "source": [
        "from IPython.display import display\n",
        "display(button)"
      ],
      "metadata": {
        "colab": {
          "base_uri": "https://localhost:8080/",
          "height": 49,
          "referenced_widgets": [
            "ff4ed58c17394612a3e6eb6a45d858b9",
            "3812982be42f456c9357739aec5955eb",
            "a386e50de2674a86a3855f3add927478"
          ]
        },
        "id": "_2c6PNSbkwX_",
        "outputId": "e775e4d1-ddea-4922-94bb-55f1156f8269"
      },
      "execution_count": null,
      "outputs": [
        {
          "output_type": "display_data",
          "data": {
            "text/plain": [
              "Button(description='Click me', style=ButtonStyle())"
            ],
            "application/vnd.jupyter.widget-view+json": {
              "version_major": 2,
              "version_minor": 0,
              "model_id": "ff4ed58c17394612a3e6eb6a45d858b9"
            }
          },
          "metadata": {}
        }
      ]
    },
    {
      "cell_type": "code",
      "source": [
        "#clickしたらprintされるやつ\n",
        "button = widgets.Button(description = 'Click me')\n",
        "\n",
        "def on_click_callback(clicked_button):\n",
        "  print('Clicked')\n",
        "\n",
        "button.on_click(on_click_callback)\n",
        "display(button)\n"
      ],
      "metadata": {
        "id": "gD7GauVZlOi-",
        "colab": {
          "base_uri": "https://localhost:8080/",
          "height": 49,
          "referenced_widgets": [
            "ae4eb0fab60446a98c915c6ed4d0abd0",
            "c145f392a7ad4f42a8a5c2f6478f00fe",
            "e48189905ccc460098e3402217fbbe92"
          ]
        },
        "outputId": "35a93093-2442-4942-999c-284597525e1f"
      },
      "execution_count": null,
      "outputs": [
        {
          "output_type": "display_data",
          "data": {
            "text/plain": [
              "Button(description='Click me', style=ButtonStyle())"
            ],
            "application/vnd.jupyter.widget-view+json": {
              "version_major": 2,
              "version_minor": 0,
              "model_id": "ae4eb0fab60446a98c915c6ed4d0abd0"
            }
          },
          "metadata": {}
        }
      ]
    },
    {
      "cell_type": "markdown",
      "source": [
        "# ドライブのマウント"
      ],
      "metadata": {
        "id": "r4tx7RlUfr4O"
      }
    },
    {
      "cell_type": "code",
      "source": [
        "import sys\n",
        "import os\n",
        "from pathlib import Path\n",
        "\n",
        "if 'google.colab' in sys.modules:  # colab環境\n",
        "    # drive mount\n",
        "    from google.colab import drive\n",
        "    drive.mount('/content/drive/')\n",
        "\n",
        "    print('githubのリポジトリのパスを入力: ')\n",
        "    print('例： /content/drive/MyDrive/git/kaggle-ubiquant-market-prediction')\n",
        "    WORKING_DIR = input()\n",
        "    # working dir に移動\n",
        "    os.chdir(WORKING_DIR)\n",
        "    print(\"cwd:\", os.getcwd())\n",
        "    \n",
        "elif 'kaggle_web_client' in sys.modules:  # kaggle環境\n",
        "    pass\n",
        "else: # ローカル\n",
        "    os.chdir('..')\n",
        "\n",
        "#諸田のdrive  (/content/drive/MyDrive/kaggle-ubiquant-market-prediction)"
      ],
      "metadata": {
        "colab": {
          "base_uri": "https://localhost:8080/"
        },
        "id": "wFdTXIX-flv9",
        "outputId": "5cb49d8f-7f09-43c9-eb31-2cd4f1b0d0a3"
      },
      "execution_count": null,
      "outputs": [
        {
          "output_type": "stream",
          "name": "stdout",
          "text": [
            "Mounted at /content/drive/\n",
            "githubのリポジトリのパスを入力: \n",
            "例： /content/drive/MyDrive/git/kaggle-ubiquant-market-prediction\n",
            "/content/drive/MyDrive/kaggle-ubiquant-market-prediction\n",
            "cwd: /content/drive/MyDrive/kaggle-ubiquant-market-prediction\n"
          ]
        }
      ]
    },
    {
      "cell_type": "markdown",
      "source": [
        "## 設定"
      ],
      "metadata": {
        "id": "cGpBKVCW0ggZ"
      }
    },
    {
      "cell_type": "code",
      "source": [
        ""
      ],
      "metadata": {
        "id": "HIMpO8Hu0fLv"
      },
      "execution_count": null,
      "outputs": []
    },
    {
      "cell_type": "code",
      "source": [
        "#自動でモジュールをリロードしてくれる\n",
        "%load_ext autoreload\n",
        "%autoreload 2"
      ],
      "metadata": {
        "id": "dTe8yvIsn2TT"
      },
      "execution_count": null,
      "outputs": []
    },
    {
      "cell_type": "code",
      "source": [
        "import ubiquantlib"
      ],
      "metadata": {
        "id": "K9Da9Cjm0FOh"
      },
      "execution_count": null,
      "outputs": []
    },
    {
      "cell_type": "code",
      "source": [
        "BASE_NAME = 'test_nn' # configファイルの読み込み先, logの出力先、モデルの保存先の名前"
      ],
      "metadata": {
        "id": "fCcFOvX6foOE"
      },
      "execution_count": null,
      "outputs": []
    },
    {
      "cell_type": "code",
      "source": [
        "import json\n",
        "#jsonファイルの作成\n",
        "\n",
        "st = {\n",
        "    \"num_kfolds\":5,\n",
        "    \"random_state\":42,\n",
        "    \"params\":{}\n",
        "    }\n",
        "\n",
        "path = \"/content/drive/MyDrive/kaggle-ubiquant-market-prediction/configs/\"\n",
        "with open(path + f'{BASE_NAME}.json', 'w') as f:\n",
        "    json.dump(st, f, ensure_ascii=False)"
      ],
      "metadata": {
        "id": "WRBgCeW_yaUA"
      },
      "execution_count": null,
      "outputs": []
    },
    {
      "cell_type": "code",
      "source": [
        "# pring の代わりに logger を使うようにする\n",
        "\n",
        "\"\"\"\n",
        "logの出力先と、logの設定ファイルの読み込み先を指定\n",
        "filenameを設定しない場合は時間でファイルが作成される\n",
        "log_config_pathを指定しない場合は読み込み先は ./log_config.json\n",
        "ただし、使う場合は一番最初に行う（configなどのloadの前）\n",
        "\"\"\"\n",
        "# ubiquantlib.logs.init_logging(filename=f\"./logs/{BASE_NAME}.logs\", log_config_path='./log_config.json') # log_config_pathは指定しなくてもOK\n",
        "ubiquantlib.logs.init_logging(filename=f\"./logs/{BASE_NAME}.logs\", log_config_path='./log_config.json') # log_config_pathは指定しなくてもOK\n",
        "\n",
        "# logger の使い方\n",
        "from logging import getLogger\n",
        "\n",
        "logger = getLogger('main') # 基本は 'main' というloggerを使う\n",
        "logger.info('test console and file') # info 以上はコンソールとファイル出力\n",
        "logger.debug('test file') # debugはファイル出力のみ。後で必要になった時に見たいが、手元で表示したくない時に使う\n",
        "\n",
        "\n",
        "\n",
        "# config から設定を読み込み\n",
        "config = ubiquantlib.settings.load_config(f'configs/{BASE_NAME}.json')"
      ],
      "metadata": {
        "colab": {
          "base_uri": "https://localhost:8080/"
        },
        "id": "Lt2vV1JcopGd",
        "outputId": "87536ec3-311d-4dbe-c4f1-81abe55184a9"
      },
      "execution_count": null,
      "outputs": [
        {
          "output_type": "stream",
          "name": "stdout",
          "text": [
            " init_logging [INFO]: ./log_config.json loaded\n",
            " <module> [INFO]: test console and file\n"
          ]
        }
      ]
    },
    {
      "cell_type": "code",
      "source": [
        "config"
      ],
      "metadata": {
        "id": "tXFj4Ii3XHLw",
        "colab": {
          "base_uri": "https://localhost:8080/"
        },
        "outputId": "d0b0fa7b-7c9d-483b-d8e1-680403c70f98"
      },
      "execution_count": null,
      "outputs": [
        {
          "output_type": "execute_result",
          "data": {
            "text/plain": [
              "{'num_kfolds': 5, 'params': {}, 'random_state': 42}"
            ]
          },
          "metadata": {},
          "execution_count": 14
        }
      ]
    },
    {
      "cell_type": "code",
      "source": [
        "os.listdir('./data/input')"
      ],
      "metadata": {
        "colab": {
          "base_uri": "https://localhost:8080/"
        },
        "id": "lXnFaNRULh4t",
        "outputId": "9ff02cfa-8918-434e-9ec8-ccfd572995c6"
      },
      "execution_count": null,
      "outputs": [
        {
          "output_type": "execute_result",
          "data": {
            "text/plain": [
              "['ubiquant-parquet']"
            ]
          },
          "metadata": {},
          "execution_count": 15
        }
      ]
    },
    {
      "cell_type": "code",
      "source": [
        "# データの読み込みとメモリ削減\n",
        "train = ubiquantlib.datasets.load_train_parquet(low_memory=True)\n",
        "\n",
        "# debug用： ランダムでサンプリングして量を減らす\n",
        "# train = train.sample(n=100, random_state=config['random_state']).sort_index().reset_index(drop=True)\n",
        "\n",
        "train = ubiquantlib.datasets.reduce_mem_usage(train)\n",
        "# train.head()"
      ],
      "metadata": {
        "colab": {
          "base_uri": "https://localhost:8080/"
        },
        "id": "PMdCl1ewf1jV",
        "outputId": "aaf4f59b-6bfe-4329-bb71-58643ed46204"
      },
      "execution_count": null,
      "outputs": [
        {
          "output_type": "stream",
          "name": "stdout",
          "text": [
            "Memory usage of dataframe is 3642.99 MB\n"
          ]
        },
        {
          "output_type": "stream",
          "name": "stderr",
          "text": [
            "100%|██████████| 304/304 [02:24<00:00,  2.10it/s]"
          ]
        },
        {
          "output_type": "stream",
          "name": "stdout",
          "text": [
            "Memory usage after optimization is: 1915.96 MB\n",
            "Decreased by 47.4%\n"
          ]
        },
        {
          "output_type": "stream",
          "name": "stderr",
          "text": [
            "\n"
          ]
        }
      ]
    },
    {
      "cell_type": "code",
      "source": [
        "# debug用： ランダムでサンプリングして量を減らす\n",
        "train_s = train.sample(n=100, random_state=config['random_state']).sort_index().reset_index(drop=True)\n"
      ],
      "metadata": {
        "id": "QbF97hzTVx0E"
      },
      "execution_count": null,
      "outputs": []
    },
    {
      "cell_type": "code",
      "source": [
        "# train['time_id'].value_counts()"
      ],
      "metadata": {
        "id": "4KThDC8_AZoV"
      },
      "execution_count": null,
      "outputs": []
    },
    {
      "cell_type": "code",
      "source": [
        "# import numpy as np\n",
        "\n",
        "# tscv = ubiquantlib.cv.GroupTimeSeriesSplit(n_splits=config['num_kfolds'])\n",
        "# for fi,(train_index, valid_index) in enumerate(tscv.split(train, groups=train.time_id)):\n",
        "#   print(f'fold {fi}')\n",
        "#   print(f'train {len(train_index)}件:' , np.min(train_index), '~' ,np.max(train_index))\n",
        "#   print(f'valid {len(valid_index)}件:' , np.min(valid_index), '~' ,np.max(valid_index))\n",
        "#   print()"
      ],
      "metadata": {
        "id": "kEnC1lpS9G3z"
      },
      "execution_count": null,
      "outputs": []
    },
    {
      "cell_type": "code",
      "source": [
        "# from sklearn.model_selection import TimeSeriesSplit\n",
        "\n",
        "# tscv = TimeSeriesSplit(n_splits=config['num_kfolds'])\n",
        "# for fi,(train_index, valid_index) in enumerate(tscv.split(train, groups=train.time_id)):\n",
        "#   print(f'fold {fi}')\n",
        "#   print(f'train {len(train_index)}件:' , np.min(train_index), '~' ,np.max(train_index))\n",
        "#   print(f'valid {len(valid_index)}件:' , np.min(valid_index), '~' ,np.max(valid_index))\n",
        "#   print()"
      ],
      "metadata": {
        "id": "Jnnf6qR299lp"
      },
      "execution_count": null,
      "outputs": []
    },
    {
      "cell_type": "code",
      "source": [
        "import pandas as pd\n",
        "import numpy as np\n",
        "import gc\n",
        "import matplotlib.pyplot as plt\n",
        "import tensorflow as tf\n",
        "from tensorflow.keras import layers\n",
        "from tensorflow import keras\n",
        "from scipy import stats"
      ],
      "metadata": {
        "id": "pP-OGp_vYQad"
      },
      "execution_count": null,
      "outputs": []
    },
    {
      "cell_type": "markdown",
      "source": [
        ""
      ],
      "metadata": {
        "id": "8iqG-AKSm4kc"
      }
    },
    {
      "cell_type": "markdown",
      "source": [
        "##こっからテスト"
      ],
      "metadata": {
        "id": "c84enF6N0XGi"
      }
    },
    {
      "cell_type": "code",
      "source": [
        "#作ったモデルのモジュールのテスト\n",
        "from ubiquantlib.test1models import NN1"
      ],
      "metadata": {
        "id": "lxeo8rqQvATD"
      },
      "execution_count": null,
      "outputs": []
    },
    {
      "cell_type": "code",
      "source": [
        "\n",
        "\n",
        "scores = []\n",
        "y_valid_preds = []\n",
        "models = []\n",
        "\n",
        "\n",
        "# 本来はこちら\n",
        "df_train = train.drop(['investment_id','row_id','time_id','target'],axis=1)\n",
        "df_target = train['target']\n",
        "investment_id = train['investment_id']\n",
        "time_id = train.time_id\n",
        "\n",
        "#サンプルのとき\n",
        "# df_train = train_s.drop(['investment_id','row_id','time_id','target'],axis=1)\n",
        "# df_target = train_s['target']\n",
        "# investment_id = train_s['investment_id']\n",
        "# time_id = train_s.time_id\n",
        "\n",
        "\n",
        "tscv = ubiquantlib.cv.GroupTimeSeriesSplit(n_splits=config['num_kfolds'])\n",
        "for fi,(train_index, valid_index) in enumerate(tscv.split(df_train, groups=time_id)):\n",
        "  logger.info('*'*50)\n",
        "  logger.info(f'fold {fi} start')\n",
        "  X_train, X_valid = (df_train.iloc[train_index, :], df_train.iloc[valid_index, :])\n",
        "  y_train, y_valid = (df_target.iloc[train_index], df_target.iloc[valid_index])\n",
        "  investment_id_train, investment_id_valid = (investment_id.iloc[train_index], investment_id.iloc[valid_index])\n",
        "\n",
        "  input_size = 300\n",
        "\n",
        "  #NNの学習\n",
        "  nn = NN1()\n",
        "\n",
        "  y_valid_pred, model = nn.train(X_train,\n",
        "                                 X_valid,\n",
        "                                 y_train,\n",
        "                                 y_valid,\n",
        "                                 config['params'],\n",
        "                                 investment_id_train,\n",
        "                                 investment_id_valid,\n",
        "                                 input_size=input_size,\n",
        "                                 model_name=f'{BASE_NAME}_{fi}', # 保存先の名前\n",
        "                                 )\n",
        "  \n",
        "  # 結果の保存\n",
        "  y_valid_preds.append(y_valid_pred)\n",
        "  models.append(model)\n",
        "\n",
        "  score = ubiquantlib.evaluate.mean_pearson(train.iloc[valid_index,:].reset_index(drop=True), y_valid_pred)\n",
        "  scores.append(score)\n",
        "  logger.info(f'mean pearson: {score}')\n",
        "\n",
        "  #RAMのために削除\n",
        "  del  y_valid_pred, model\n",
        "\n",
        "\n",
        "\n",
        "\n",
        "\n"
      ],
      "metadata": {
        "id": "BZVoDvWaeDFi"
      },
      "execution_count": null,
      "outputs": []
    },
    {
      "cell_type": "code",
      "source": [
        ""
      ],
      "metadata": {
        "id": "Dp7S4KxGuyhC"
      },
      "execution_count": null,
      "outputs": []
    },
    {
      "cell_type": "code",
      "source": [
        "# CVスコア\n",
        "score = sum(scores) / len(scores)\n",
        "logger.info('===CV scores===')\n",
        "logger.info(scores)\n",
        "logger.info(score)"
      ],
      "metadata": {
        "colab": {
          "base_uri": "https://localhost:8080/"
        },
        "id": "Pt0WfA8q4FlQ",
        "outputId": "6e6e9c86-cad0-4a4d-9ff3-920374384eb1"
      },
      "execution_count": null,
      "outputs": [
        {
          "output_type": "stream",
          "name": "stdout",
          "text": [
            " <module> [INFO]: ===CV scores===\n",
            " <module> [INFO]: [0.1285836665992117, 0.08252556664480934, 0.0919727800432226, 0.09073691402985565, 0.11269281153062287]\n",
            " <module> [INFO]: 0.10130234776954442\n"
          ]
        }
      ]
    },
    {
      "cell_type": "code",
      "source": [
        ""
      ],
      "metadata": {
        "id": "SImKjCaOY0GW"
      },
      "execution_count": null,
      "outputs": []
    },
    {
      "cell_type": "code",
      "source": [
        ""
      ],
      "metadata": {
        "id": "X2xHYT7UYz37"
      },
      "execution_count": null,
      "outputs": []
    },
    {
      "cell_type": "markdown",
      "source": [
        "##試行錯誤"
      ],
      "metadata": {
        "id": "0mYs3uQL0Qwv"
      }
    },
    {
      "cell_type": "code",
      "source": [
        "#後で加工するために取り出す\n",
        "# investment_id = train.pop(\"investment_id\")\n",
        "\n",
        "# _ = train.pop(\"time_id\")\n",
        "# _ = train.pop(\"row_id\")\n",
        "# y = train.pop(\"target\")"
      ],
      "metadata": {
        "id": "z9s8tePOYXhX"
      },
      "execution_count": null,
      "outputs": []
    },
    {
      "cell_type": "code",
      "source": [
        "%%time\n",
        "investment_ids = list(investment_id.unique())\n",
        "investment_id_size = len(investment_ids) + 1\n",
        "investment_id_lookup_layer = layers.IntegerLookup(max_tokens=investment_id_size)\n",
        "investment_id_lookup_layer.adapt(pd.DataFrame({\"investment_ids\":investment_ids}))"
      ],
      "metadata": {
        "colab": {
          "base_uri": "https://localhost:8080/"
        },
        "id": "Jmmq5rijYPNC",
        "outputId": "df8bd53c-ce27-431e-f2ad-e5fde89af960"
      },
      "execution_count": null,
      "outputs": [
        {
          "output_type": "stream",
          "name": "stdout",
          "text": [
            "CPU times: user 378 ms, sys: 11.4 ms, total: 389 ms\n",
            "Wall time: 726 ms\n"
          ]
        }
      ]
    },
    {
      "cell_type": "code",
      "source": [
        "def preprocess(X, y):\n",
        "    return X, y\n",
        "def make_dataset(feature, investment_id, y, batch_size=1024, mode=\"train\"):\n",
        "    ds = tf.data.Dataset.from_tensor_slices(((investment_id, feature), y))\n",
        "    ds = ds.map(preprocess)\n",
        "    if mode == \"train\":\n",
        "        ds = ds.shuffle(4096)\n",
        "    ds = ds.batch(batch_size).cache().prefetch(tf.data.experimental.AUTOTUNE)\n",
        "    return ds"
      ],
      "metadata": {
        "id": "Nw7usY3WZFYz"
      },
      "execution_count": null,
      "outputs": []
    },
    {
      "cell_type": "code",
      "source": [
        "train.shape"
      ],
      "metadata": {
        "colab": {
          "base_uri": "https://localhost:8080/"
        },
        "id": "eOCs3jV3ecgu",
        "outputId": "55b9641d-8ff6-4eaf-8a17-ed1109ab7fc5"
      },
      "execution_count": null,
      "outputs": [
        {
          "output_type": "execute_result",
          "data": {
            "text/plain": [
              "(100, 300)"
            ]
          },
          "metadata": {},
          "execution_count": 54
        }
      ]
    },
    {
      "cell_type": "code",
      "source": [
        "#input層が300列限定のモデルになってる\n",
        "\n",
        "def get_model():\n",
        "    investment_id_inputs = tf.keras.Input((1, ), dtype=tf.uint16)\n",
        "    features_inputs = tf.keras.Input((300, ), dtype=tf.float16)\n",
        "    \n",
        "    investment_id_x = investment_id_lookup_layer(investment_id_inputs)\n",
        "    investment_id_x = layers.Embedding(investment_id_size, 32, input_length=1)(investment_id_x)\n",
        "    investment_id_x = layers.Reshape((-1, ))(investment_id_x)\n",
        "    investment_id_x = layers.Dense(64, activation='swish')(investment_id_x)\n",
        "    investment_id_x = layers.Dense(64, activation='swish')(investment_id_x)\n",
        "    investment_id_x = layers.Dense(64, activation='swish')(investment_id_x)\n",
        "    \n",
        "    feature_x = layers.Dense(256, activation='swish')(features_inputs)\n",
        "    feature_x = layers.Dense(256, activation='swish')(feature_x)\n",
        "    feature_x = layers.Dense(256, activation='swish')(feature_x)\n",
        "    \n",
        "    x = layers.Concatenate(axis=1)([investment_id_x, feature_x])\n",
        "    x = layers.Dense(512, activation='swish', kernel_regularizer=\"l2\")(x)\n",
        "    x = layers.Dense(128, activation='swish', kernel_regularizer=\"l2\")(x)\n",
        "    x = layers.Dense(32, activation='swish', kernel_regularizer=\"l2\")(x)\n",
        "    output = layers.Dense(1)(x)\n",
        "    rmse = keras.metrics.RootMeanSquaredError(name=\"rmse\")\n",
        "    model = tf.keras.Model(inputs=[investment_id_inputs, features_inputs], outputs=[output])\n",
        "    model.compile(optimizer=tf.optimizers.Adam(0.001), loss='mse', metrics=['mse', \"mae\", \"mape\", rmse])\n",
        "    return model"
      ],
      "metadata": {
        "id": "TIOQfTqfXh25"
      },
      "execution_count": null,
      "outputs": []
    },
    {
      "cell_type": "code",
      "source": [
        "investment_id.head()"
      ],
      "metadata": {
        "colab": {
          "base_uri": "https://localhost:8080/"
        },
        "id": "gCneb3jBbR8_",
        "outputId": "232e8a8f-9a71-4675-c013-ae24ab4f921b"
      },
      "execution_count": null,
      "outputs": [
        {
          "output_type": "execute_result",
          "data": {
            "text/plain": [
              "0     244.0\n",
              "1    3180.0\n",
              "2    3304.0\n",
              "3     481.0\n",
              "4    3346.0\n",
              "Name: investment_id, dtype: float16"
            ]
          },
          "metadata": {},
          "execution_count": 39
        }
      ]
    },
    {
      "cell_type": "code",
      "source": [
        "#array型の型のnp.float32にするとエラーが起きない\n",
        "encoded_id = investment_id_lookup_layer(investment_id)\n",
        "\n",
        "train_array = np.asarray(train).astype(np.float32)\n",
        "id_array = np.asarray(encoded_id).astype(np.float32)\n",
        "y_array = np.asarray(y).astype(np.float32)\n",
        "\n",
        "ds = make_dataset(train_array, id_array, y_array)\n",
        "model = get_model()"
      ],
      "metadata": {
        "id": "lNAmvaz2X-Ik"
      },
      "execution_count": null,
      "outputs": []
    },
    {
      "cell_type": "code",
      "source": [
        "model.fit(ds)"
      ],
      "metadata": {
        "colab": {
          "base_uri": "https://localhost:8080/"
        },
        "id": "2vMmMY5JdPaU",
        "outputId": "abd0a489-c17d-4088-b5bf-0dbccae4fd09"
      },
      "execution_count": null,
      "outputs": [
        {
          "output_type": "stream",
          "name": "stdout",
          "text": [
            "1/1 [==============================] - 2s 2s/step - loss: 7.2493 - mse: 0.7579 - mae: 0.6294 - mape: 143.6452 - rmse: 0.8706\n"
          ]
        },
        {
          "output_type": "execute_result",
          "data": {
            "text/plain": [
              "<keras.callbacks.History at 0x7f80f90ada90>"
            ]
          },
          "metadata": {},
          "execution_count": 57
        }
      ]
    },
    {
      "cell_type": "code",
      "source": [
        "os.listdir('ubiquantlib')"
      ],
      "metadata": {
        "colab": {
          "base_uri": "https://localhost:8080/"
        },
        "id": "_ZD1EPmKvy8n",
        "outputId": "cbbd861b-aba0-472b-ae55-480f05f91a54"
      },
      "execution_count": null,
      "outputs": [
        {
          "output_type": "execute_result",
          "data": {
            "text/plain": [
              "['datasets.py',\n",
              " 'cv.py',\n",
              " 'settings.py',\n",
              " 'train.py',\n",
              " 'evaluate.py',\n",
              " 'models.py',\n",
              " 'logs.py',\n",
              " '__init__.py',\n",
              " '__pycache__',\n",
              " 'test1models.py',\n",
              " '.ipynb_checkpoints']"
            ]
          },
          "metadata": {},
          "execution_count": 66
        }
      ]
    }
  ]
}